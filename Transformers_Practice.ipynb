{
  "nbformat": 4,
  "nbformat_minor": 0,
  "metadata": {
    "colab": {
      "provenance": [],
      "authorship_tag": "ABX9TyOIKzf5NxlUgYCx0BTJbeVz",
      "include_colab_link": true
    },
    "kernelspec": {
      "name": "python3",
      "display_name": "Python 3"
    },
    "language_info": {
      "name": "python"
    }
  },
  "cells": [
    {
      "cell_type": "markdown",
      "metadata": {
        "id": "view-in-github",
        "colab_type": "text"
      },
      "source": [
        "<a href=\"https://colab.research.google.com/github/Lakshmi-Ganesh-Mulluri/AI-Agents/blob/main/Transformers_Practice.ipynb\" target=\"_parent\"><img src=\"https://colab.research.google.com/assets/colab-badge.svg\" alt=\"Open In Colab\"/></a>"
      ]
    },
    {
      "cell_type": "code",
      "execution_count": null,
      "metadata": {
        "colab": {
          "base_uri": "https://localhost:8080/"
        },
        "id": "MLODzkH7G3Fb",
        "outputId": "2a20b1d6-df9d-40ed-d2eb-a783e1426291"
      },
      "outputs": [
        {
          "output_type": "stream",
          "name": "stdout",
          "text": [
            "Requirement already satisfied: SpeechRecognition in /usr/local/lib/python3.11/dist-packages (3.14.3)\n",
            "Requirement already satisfied: pydub in /usr/local/lib/python3.11/dist-packages (0.25.1)\n",
            "Requirement already satisfied: typing-extensions in /usr/local/lib/python3.11/dist-packages (from SpeechRecognition) (4.13.2)\n"
          ]
        }
      ],
      "source": [
        "!pip install SpeechRecognition pydub"
      ]
    },
    {
      "cell_type": "code",
      "source": [
        "!pip install transformers\n",
        "!pip install pipeline\n",
        "!pip install gTTS"
      ],
      "metadata": {
        "colab": {
          "base_uri": "https://localhost:8080/"
        },
        "id": "d2BZ-MivHJtX",
        "outputId": "b248a9c2-a507-4b57-e629-dc1a46b8ca49"
      },
      "execution_count": null,
      "outputs": [
        {
          "output_type": "stream",
          "name": "stdout",
          "text": [
            "Requirement already satisfied: transformers in /usr/local/lib/python3.11/dist-packages (4.51.3)\n",
            "Requirement already satisfied: filelock in /usr/local/lib/python3.11/dist-packages (from transformers) (3.18.0)\n",
            "Requirement already satisfied: huggingface-hub<1.0,>=0.30.0 in /usr/local/lib/python3.11/dist-packages (from transformers) (0.31.2)\n",
            "Requirement already satisfied: numpy>=1.17 in /usr/local/lib/python3.11/dist-packages (from transformers) (2.0.2)\n",
            "Requirement already satisfied: packaging>=20.0 in /usr/local/lib/python3.11/dist-packages (from transformers) (24.2)\n",
            "Requirement already satisfied: pyyaml>=5.1 in /usr/local/lib/python3.11/dist-packages (from transformers) (6.0.2)\n",
            "Requirement already satisfied: regex!=2019.12.17 in /usr/local/lib/python3.11/dist-packages (from transformers) (2024.11.6)\n",
            "Requirement already satisfied: requests in /usr/local/lib/python3.11/dist-packages (from transformers) (2.32.3)\n",
            "Requirement already satisfied: tokenizers<0.22,>=0.21 in /usr/local/lib/python3.11/dist-packages (from transformers) (0.21.1)\n",
            "Requirement already satisfied: safetensors>=0.4.3 in /usr/local/lib/python3.11/dist-packages (from transformers) (0.5.3)\n",
            "Requirement already satisfied: tqdm>=4.27 in /usr/local/lib/python3.11/dist-packages (from transformers) (4.67.1)\n",
            "Requirement already satisfied: fsspec>=2023.5.0 in /usr/local/lib/python3.11/dist-packages (from huggingface-hub<1.0,>=0.30.0->transformers) (2025.3.2)\n",
            "Requirement already satisfied: typing-extensions>=3.7.4.3 in /usr/local/lib/python3.11/dist-packages (from huggingface-hub<1.0,>=0.30.0->transformers) (4.13.2)\n",
            "Requirement already satisfied: charset-normalizer<4,>=2 in /usr/local/lib/python3.11/dist-packages (from requests->transformers) (3.4.2)\n",
            "Requirement already satisfied: idna<4,>=2.5 in /usr/local/lib/python3.11/dist-packages (from requests->transformers) (2.10)\n",
            "Requirement already satisfied: urllib3<3,>=1.21.1 in /usr/local/lib/python3.11/dist-packages (from requests->transformers) (2.4.0)\n",
            "Requirement already satisfied: certifi>=2017.4.17 in /usr/local/lib/python3.11/dist-packages (from requests->transformers) (2025.4.26)\n",
            "Requirement already satisfied: pipeline in /usr/local/lib/python3.11/dist-packages (0.1.0)\n",
            "Requirement already satisfied: gTTS in /usr/local/lib/python3.11/dist-packages (2.5.4)\n",
            "Requirement already satisfied: requests<3,>=2.27 in /usr/local/lib/python3.11/dist-packages (from gTTS) (2.32.3)\n",
            "Requirement already satisfied: click<8.2,>=7.1 in /usr/local/lib/python3.11/dist-packages (from gTTS) (8.1.8)\n",
            "Requirement already satisfied: charset-normalizer<4,>=2 in /usr/local/lib/python3.11/dist-packages (from requests<3,>=2.27->gTTS) (3.4.2)\n",
            "Requirement already satisfied: idna<4,>=2.5 in /usr/local/lib/python3.11/dist-packages (from requests<3,>=2.27->gTTS) (2.10)\n",
            "Requirement already satisfied: urllib3<3,>=1.21.1 in /usr/local/lib/python3.11/dist-packages (from requests<3,>=2.27->gTTS) (2.4.0)\n",
            "Requirement already satisfied: certifi>=2017.4.17 in /usr/local/lib/python3.11/dist-packages (from requests<3,>=2.27->gTTS) (2025.4.26)\n"
          ]
        }
      ]
    },
    {
      "cell_type": "code",
      "source": [
        "!pip install secure-smtplib"
      ],
      "metadata": {
        "colab": {
          "base_uri": "https://localhost:8080/"
        },
        "id": "bBivhCCiHWZU",
        "outputId": "b1a96180-b759-47d0-cbb6-a3a061ca03ac"
      },
      "execution_count": null,
      "outputs": [
        {
          "output_type": "stream",
          "name": "stdout",
          "text": [
            "Requirement already satisfied: secure-smtplib in /usr/local/lib/python3.11/dist-packages (0.1.1)\n"
          ]
        }
      ]
    },
    {
      "cell_type": "code",
      "source": [
        "from transformers import pipeline\n",
        "s = pipeline('summarization')"
      ],
      "metadata": {
        "colab": {
          "base_uri": "https://localhost:8080/"
        },
        "id": "1vZdZk3gHc22",
        "outputId": "0467153b-aa14-4b55-802d-9202c8a960a9"
      },
      "execution_count": null,
      "outputs": [
        {
          "output_type": "stream",
          "name": "stderr",
          "text": [
            "No model was supplied, defaulted to sshleifer/distilbart-cnn-12-6 and revision a4f8f3e (https://huggingface.co/sshleifer/distilbart-cnn-12-6).\n",
            "Using a pipeline without specifying a model name and revision in production is not recommended.\n",
            "/usr/local/lib/python3.11/dist-packages/huggingface_hub/utils/_auth.py:94: UserWarning: \n",
            "The secret `HF_TOKEN` does not exist in your Colab secrets.\n",
            "To authenticate with the Hugging Face Hub, create a token in your settings tab (https://huggingface.co/settings/tokens), set it as secret in your Google Colab and restart your session.\n",
            "You will be able to reuse this secret in all of your notebooks.\n",
            "Please note that authentication is recommended but still optional to access public models or datasets.\n",
            "  warnings.warn(\n",
            "Device set to use cpu\n"
          ]
        }
      ]
    },
    {
      "cell_type": "code",
      "source": [
        "from gtts import gTTS\n",
        "from IPython.display import Audio"
      ],
      "metadata": {
        "id": "ZU4zInkdHux0"
      },
      "execution_count": null,
      "outputs": []
    },
    {
      "cell_type": "code",
      "source": [
        "from pydub import AudioSegment\n",
        "mp3_file = ('/content/01-13-25_Council_Mtg (mp3cut.net) (1).mp3')\n",
        "wav_file = ('/content/01-13-25_Council_Mtg (mp3cut.net) (1).mp3.wav')\n",
        "audio = AudioSegment.from_mp3(mp3_file)\n",
        "audio.export(wav_file, format='wav')"
      ],
      "metadata": {
        "colab": {
          "base_uri": "https://localhost:8080/"
        },
        "id": "hLhdaC1aH4V7",
        "outputId": "a30ccc3c-06d6-4ae7-813f-da78b37bb00a"
      },
      "execution_count": null,
      "outputs": [
        {
          "output_type": "execute_result",
          "data": {
            "text/plain": [
              "<_io.BufferedRandom name='/content/01-13-25_Council_Mtg (mp3cut.net) (1).mp3.wav'>"
            ]
          },
          "metadata": {},
          "execution_count": 7
        }
      ]
    },
    {
      "cell_type": "code",
      "source": [
        "import speech_recognition as sr\n",
        "reco = sr.Recognizer()\n",
        "with sr.AudioFile('/content/01-13-25_Council_Mtg (mp3cut.net) (1).mp3.wav') as source:\n",
        "  audio_data = reco.record(source)\n",
        "  print(\"Transcript : \", reco.recognize_google(audio_data))"
      ],
      "metadata": {
        "colab": {
          "base_uri": "https://localhost:8080/"
        },
        "id": "8TSMXCe8IWHm",
        "outputId": "a8e42f4e-8cea-43ac-a841-84e45103b8ec"
      },
      "execution_count": null,
      "outputs": [
        {
          "output_type": "stream",
          "name": "stdout",
          "text": [
            "Transcript :  post\n"
          ]
        }
      ]
    },
    {
      "cell_type": "code",
      "source": [
        "t = 'thank you okay with Bonnie everyone thank you for attending today meeting hey how are you doing today OK Google do you have any questions'"
      ],
      "metadata": {
        "id": "JZllZYgHK6bS"
      },
      "execution_count": null,
      "outputs": []
    },
    {
      "cell_type": "code",
      "source": [
        "result = s(t)\n",
        "a= result[0].get('summary_text')"
      ],
      "metadata": {
        "colab": {
          "base_uri": "https://localhost:8080/"
        },
        "id": "cGeMsNVwK_jB",
        "outputId": "af611760-d744-4a18-9066-7519afa42548"
      },
      "execution_count": null,
      "outputs": [
        {
          "output_type": "stream",
          "name": "stderr",
          "text": [
            "Your max_length is set to 142, but your input_length is only 27. Since this is a summarization task, where outputs shorter than the input are typically wanted, you might consider decreasing max_length manually, e.g. summarizer('...', max_length=13)\n"
          ]
        }
      ]
    },
    {
      "cell_type": "code",
      "source": [
        "print(a)"
      ],
      "metadata": {
        "colab": {
          "base_uri": "https://localhost:8080/"
        },
        "id": "M7x6HA89LG3h",
        "outputId": "edd29ab4-df13-4f12-a602-8f41ee828276"
      },
      "execution_count": null,
      "outputs": [
        {
          "output_type": "stream",
          "name": "stdout",
          "text": [
            " Thank you for attending today meeting. thank you okay with Bonnie everyone . Google do you have any questions? Please email us at the end of the meeting. We'll be happy to answer any of our questions. Please share your thoughts with us on Twitter @dailymailonline.com and iReport .\n"
          ]
        }
      ]
    },
    {
      "cell_type": "code",
      "source": [
        "sender_email = \"231fa04955@gmail.com\"\n",
        "receiver_email = \"madhuveer098@gmail.com\"\n",
        "password = \"gfds yhnb ikmn qwsx\"\n",
        "subject = \"Getting interatctions with colleagues\""
      ],
      "metadata": {
        "id": "bcrWnbClLPIo"
      },
      "execution_count": null,
      "outputs": []
    },
    {
      "cell_type": "code",
      "source": [
        "from email.mime.multipart import MIMEMultipart\n",
        "from email.mime.text import MIMEText\n",
        "import smtplib\n",
        "from email.message import EmailMessage\n"
      ],
      "metadata": {
        "id": "J4xgOJEMMROK"
      },
      "execution_count": null,
      "outputs": []
    },
    {
      "cell_type": "code",
      "source": [
        "# Define the send_email function\n",
        "def send_email(subject, content, to_email, from_email, app_password):\n",
        "    \"\"\"\n",
        "    Sends an email using SMTP.\n",
        "\n",
        "    Args:\n",
        "        subject (str): The subject of the email.\n",
        "        content (str): The body content of the email.\n",
        "        to_email (str): The recipient's email address.\n",
        "        from_email (str): The sender's email address.\n",
        "        app_password (str): The app password for the sender's email.\n",
        "    \"\"\"\n",
        "    # Compose the email\n",
        "    email = EmailMessage()\n",
        "    email['Subject'] = subject\n",
        "    email['From'] = from_email\n",
        "    email['To'] = to_email\n",
        "    email.set_content(content)\n",
        "\n",
        "    try:\n",
        "        # Connect and send\n",
        "        with smtplib.SMTP_SSL(\"smtp.gmail.com\", 465) as smtp:\n",
        "            smtp.login(from_email, app_password)\n",
        "            smtp.send_message(email)\n",
        "        print(\"✅ Email sent successfully!\")\n",
        "    except Exception as e:\n",
        "        print(\"❌ Failed to send email:\", e)\n",
        "\n",
        "# Define email variables and call the send_email function\n",
        "summary_text = \"This is a sample meeting summary generated by AI.\"\n",
        "from_email = \"231fa04955@gmail.com\"\n",
        "to_email = \"madhuveer098@example.com\"\n",
        "app_password = \"gfds yhnb ikmn qwsx\"\n",
        "\n",
        "# Call the send_email function after it has been defined\n",
        "send_email(\"AI Meeting Summary\", summary_text, to_email, from_email, app_password)"
      ],
      "metadata": {
        "colab": {
          "base_uri": "https://localhost:8080/"
        },
        "id": "_4kj495lPLHO",
        "outputId": "8127f18f-ac41-494c-8c31-96623d0a33fb"
      },
      "execution_count": null,
      "outputs": [
        {
          "output_type": "stream",
          "name": "stdout",
          "text": [
            "❌ Failed to send email: (535, b'5.7.8 Username and Password not accepted. For more information, go to\\n5.7.8  https://support.google.com/mail/?p=BadCredentials a1e0cc1a2514c-87bec1220b5sm8557394241.11 - gsmtp')\n"
          ]
        }
      ]
    },
    {
      "cell_type": "code",
      "source": [
        "msg = MIMEMultipart()\n",
        "msg['From'] = sender_email\n",
        "msg['To'] = receiver_email\n",
        "msg['Subject'] = subject"
      ],
      "metadata": {
        "id": "Ft-8UTCxLkuA"
      },
      "execution_count": null,
      "outputs": []
    },
    {
      "cell_type": "code",
      "source": [
        "body = \"Hello \\n\\n\" + a + \"\\n\\n\" + \"Thank you\\nGanesh\""
      ],
      "metadata": {
        "id": "1FM0BDpIMas7"
      },
      "execution_count": null,
      "outputs": []
    },
    {
      "cell_type": "code",
      "source": [
        "msg.attach(MIMEText(body, 'plain'))"
      ],
      "metadata": {
        "id": "7-I55rMBMhex"
      },
      "execution_count": null,
      "outputs": []
    },
    {
      "cell_type": "code",
      "source": [
        "def send_email(subject, content, to_email, from_email, app_password):\n",
        "    # Compose the email\n",
        "    email = EmailMessage()\n",
        "    email['Subject'] = subject\n",
        "    email['From'] = from_email\n",
        "    email['To'] = to_email\n",
        "    email.set_content(content)\n",
        "\n",
        "    try:\n",
        "        # Connect and send\n",
        "        with smtplib.SMTP_SSL(\"smtp.gmail.com\", 465) as smtp:\n",
        "            smtp.login(from_email, app_password)\n",
        "            smtp.send_message(email)\n",
        "        print(\"✅ Email sent successfully!\")\n",
        "    except Exception as e:\n",
        "        print(\"❌ Failed to send email:\", e)"
      ],
      "metadata": {
        "id": "VMtbqivDONnX"
      },
      "execution_count": null,
      "outputs": []
    },
    {
      "cell_type": "code",
      "source": [
        "qa = pipeline('question-answering')"
      ],
      "metadata": {
        "colab": {
          "base_uri": "https://localhost:8080/"
        },
        "id": "GpQzw-NZP7b7",
        "outputId": "d4888e9f-579a-494f-c681-569a2c660bcd"
      },
      "execution_count": null,
      "outputs": [
        {
          "output_type": "stream",
          "name": "stderr",
          "text": [
            "No model was supplied, defaulted to distilbert/distilbert-base-cased-distilled-squad and revision 564e9b5 (https://huggingface.co/distilbert/distilbert-base-cased-distilled-squad).\n",
            "Using a pipeline without specifying a model name and revision in production is not recommended.\n",
            "Device set to use cpu\n"
          ]
        }
      ]
    },
    {
      "cell_type": "code",
      "source": [
        "c = '''thank you okay with Bonnie everyone thank you for attending today meeting hey how are you doing today OK Google do you have any questions.'''"
      ],
      "metadata": {
        "id": "oOV22DPlQBHH"
      },
      "execution_count": null,
      "outputs": []
    },
    {
      "cell_type": "code",
      "source": [
        "q = \"What is the motive of the meeting?\""
      ],
      "metadata": {
        "id": "mYCa00LKQE6d"
      },
      "execution_count": null,
      "outputs": []
    },
    {
      "cell_type": "code",
      "source": [
        "result = qa(question=q, context=c)\n",
        "print(result)"
      ],
      "metadata": {
        "colab": {
          "base_uri": "https://localhost:8080/"
        },
        "id": "ZXdUYscCQIZ4",
        "outputId": "f94844da-f74e-482b-9dc6-723c72ef401e"
      },
      "execution_count": null,
      "outputs": [
        {
          "output_type": "stream",
          "name": "stdout",
          "text": [
            "{'score': 0.14896082878112793, 'start': 105, 'end': 111, 'answer': 'Google'}\n"
          ]
        }
      ]
    },
    {
      "cell_type": "code",
      "source": [
        "a = pipeline('sentiment-analysis')"
      ],
      "metadata": {
        "colab": {
          "base_uri": "https://localhost:8080/"
        },
        "id": "jpZ1hqZ9QNfm",
        "outputId": "23c22ddf-bd95-4ca6-ef86-1b5670a91ded"
      },
      "execution_count": null,
      "outputs": [
        {
          "output_type": "stream",
          "name": "stderr",
          "text": [
            "No model was supplied, defaulted to distilbert/distilbert-base-uncased-finetuned-sst-2-english and revision 714eb0f (https://huggingface.co/distilbert/distilbert-base-uncased-finetuned-sst-2-english).\n",
            "Using a pipeline without specifying a model name and revision in production is not recommended.\n",
            "Device set to use cpu\n"
          ]
        }
      ]
    },
    {
      "cell_type": "code",
      "source": [
        "text = input(\"Enter the text: \")\n",
        "result = a(text)\n",
        "print(result)"
      ],
      "metadata": {
        "colab": {
          "base_uri": "https://localhost:8080/"
        },
        "id": "yzDemcpYSE-_",
        "outputId": "58d42228-b0a0-44ae-e45f-88402b488ab4"
      },
      "execution_count": null,
      "outputs": [
        {
          "output_type": "stream",
          "name": "stdout",
          "text": [
            "Enter the text: Ganesh\n",
            "[{'label': 'POSITIVE', 'score': 0.99591064453125}]\n"
          ]
        }
      ]
    },
    {
      "cell_type": "code",
      "source": [
        "text = input(\"Enter the text: \")\n",
        "result = a(text)\n",
        "print(result)"
      ],
      "metadata": {
        "colab": {
          "base_uri": "https://localhost:8080/"
        },
        "id": "wgd3DVyeSHga",
        "outputId": "431c7c89-bfee-4924-9539-a0de5919d7dd"
      },
      "execution_count": null,
      "outputs": [
        {
          "output_type": "stream",
          "name": "stdout",
          "text": [
            "Enter the text: THere is no interaction with ganesh\n",
            "[{'label': 'NEGATIVE', 'score': 0.999415397644043}]\n"
          ]
        }
      ]
    },
    {
      "cell_type": "code",
      "source": [
        "!pip install googletrans==4.0.0-rc1"
      ],
      "metadata": {
        "colab": {
          "base_uri": "https://localhost:8080/"
        },
        "id": "E8JDWevfSTUt",
        "outputId": "5889b986-11f0-4280-90b2-771fdd52851b"
      },
      "execution_count": null,
      "outputs": [
        {
          "output_type": "stream",
          "name": "stdout",
          "text": [
            "Requirement already satisfied: googletrans==4.0.0-rc1 in /usr/local/lib/python3.11/dist-packages (4.0.0rc1)\n",
            "Requirement already satisfied: httpx==0.13.3 in /usr/local/lib/python3.11/dist-packages (from googletrans==4.0.0-rc1) (0.13.3)\n",
            "Requirement already satisfied: certifi in /usr/local/lib/python3.11/dist-packages (from httpx==0.13.3->googletrans==4.0.0-rc1) (2025.4.26)\n",
            "Requirement already satisfied: hstspreload in /usr/local/lib/python3.11/dist-packages (from httpx==0.13.3->googletrans==4.0.0-rc1) (2025.1.1)\n",
            "Requirement already satisfied: sniffio in /usr/local/lib/python3.11/dist-packages (from httpx==0.13.3->googletrans==4.0.0-rc1) (1.3.1)\n",
            "Requirement already satisfied: chardet==3.* in /usr/local/lib/python3.11/dist-packages (from httpx==0.13.3->googletrans==4.0.0-rc1) (3.0.4)\n",
            "Requirement already satisfied: idna==2.* in /usr/local/lib/python3.11/dist-packages (from httpx==0.13.3->googletrans==4.0.0-rc1) (2.10)\n",
            "Requirement already satisfied: rfc3986<2,>=1.3 in /usr/local/lib/python3.11/dist-packages (from httpx==0.13.3->googletrans==4.0.0-rc1) (1.5.0)\n",
            "Requirement already satisfied: httpcore==0.9.* in /usr/local/lib/python3.11/dist-packages (from httpx==0.13.3->googletrans==4.0.0-rc1) (0.9.1)\n",
            "Requirement already satisfied: h11<0.10,>=0.8 in /usr/local/lib/python3.11/dist-packages (from httpcore==0.9.*->httpx==0.13.3->googletrans==4.0.0-rc1) (0.9.0)\n",
            "Requirement already satisfied: h2==3.* in /usr/local/lib/python3.11/dist-packages (from httpcore==0.9.*->httpx==0.13.3->googletrans==4.0.0-rc1) (3.2.0)\n",
            "Requirement already satisfied: hyperframe<6,>=5.2.0 in /usr/local/lib/python3.11/dist-packages (from h2==3.*->httpcore==0.9.*->httpx==0.13.3->googletrans==4.0.0-rc1) (5.2.0)\n",
            "Requirement already satisfied: hpack<4,>=3.0 in /usr/local/lib/python3.11/dist-packages (from h2==3.*->httpcore==0.9.*->httpx==0.13.3->googletrans==4.0.0-rc1) (3.0.0)\n"
          ]
        }
      ]
    },
    {
      "cell_type": "code",
      "source": [
        "def translated_summary(text, dest_language):\n",
        "    \"\"\"\n",
        "    Translates the input text to the specified destination language.\n",
        "\n",
        "    Args:\n",
        "        text (str): The text to translate.\n",
        "        dest_language (str): The language code of the desired translation.\n",
        "\n",
        "    Returns:\n",
        "        str: The translated text.\n",
        "    \"\"\""
      ],
      "metadata": {
        "id": "1h-1E4eBTJpv"
      },
      "execution_count": null,
      "outputs": []
    },
    {
      "cell_type": "code",
      "source": [
        "from googletrans import Translator\n",
        "t = Translator()\n",
        "from googletrans import Translator\n",
        "t = Translator()\n",
        "text = input(\"Enter the text : \")\n",
        "translated = t.translate(text,src=\"en\", dest='ja')\n",
        "print(translated.text)"
      ],
      "metadata": {
        "colab": {
          "base_uri": "https://localhost:8080/"
        },
        "id": "xs4VszCgTOFm",
        "outputId": "ef563b30-3505-447a-cc94-d04344d44d4b"
      },
      "execution_count": null,
      "outputs": [
        {
          "output_type": "stream",
          "name": "stdout",
          "text": [
            "Enter the text : There is no interaction \n",
            "相互作用はありません\n"
          ]
        }
      ]
    },
    {
      "cell_type": "code",
      "source": [
        "from googletrans import LANGUAGES\n",
        "available_languages = LANGUAGES\n",
        "print(\"Available languages:\",available_languages)"
      ],
      "metadata": {
        "colab": {
          "base_uri": "https://localhost:8080/"
        },
        "id": "CaviWxq2Thdl",
        "outputId": "c6d6a2d3-3977-4eb8-9e47-40fe8f4c7ec7"
      },
      "execution_count": null,
      "outputs": [
        {
          "output_type": "stream",
          "name": "stdout",
          "text": [
            "Available languages: {'af': 'afrikaans', 'sq': 'albanian', 'am': 'amharic', 'ar': 'arabic', 'hy': 'armenian', 'az': 'azerbaijani', 'eu': 'basque', 'be': 'belarusian', 'bn': 'bengali', 'bs': 'bosnian', 'bg': 'bulgarian', 'ca': 'catalan', 'ceb': 'cebuano', 'ny': 'chichewa', 'zh-cn': 'chinese (simplified)', 'zh-tw': 'chinese (traditional)', 'co': 'corsican', 'hr': 'croatian', 'cs': 'czech', 'da': 'danish', 'nl': 'dutch', 'en': 'english', 'eo': 'esperanto', 'et': 'estonian', 'tl': 'filipino', 'fi': 'finnish', 'fr': 'french', 'fy': 'frisian', 'gl': 'galician', 'ka': 'georgian', 'de': 'german', 'el': 'greek', 'gu': 'gujarati', 'ht': 'haitian creole', 'ha': 'hausa', 'haw': 'hawaiian', 'iw': 'hebrew', 'he': 'hebrew', 'hi': 'hindi', 'hmn': 'hmong', 'hu': 'hungarian', 'is': 'icelandic', 'ig': 'igbo', 'id': 'indonesian', 'ga': 'irish', 'it': 'italian', 'ja': 'japanese', 'jw': 'javanese', 'kn': 'kannada', 'kk': 'kazakh', 'km': 'khmer', 'ko': 'korean', 'ku': 'kurdish (kurmanji)', 'ky': 'kyrgyz', 'lo': 'lao', 'la': 'latin', 'lv': 'latvian', 'lt': 'lithuanian', 'lb': 'luxembourgish', 'mk': 'macedonian', 'mg': 'malagasy', 'ms': 'malay', 'ml': 'malayalam', 'mt': 'maltese', 'mi': 'maori', 'mr': 'marathi', 'mn': 'mongolian', 'my': 'myanmar (burmese)', 'ne': 'nepali', 'no': 'norwegian', 'or': 'odia', 'ps': 'pashto', 'fa': 'persian', 'pl': 'polish', 'pt': 'portuguese', 'pa': 'punjabi', 'ro': 'romanian', 'ru': 'russian', 'sm': 'samoan', 'gd': 'scots gaelic', 'sr': 'serbian', 'st': 'sesotho', 'sn': 'shona', 'sd': 'sindhi', 'si': 'sinhala', 'sk': 'slovak', 'sl': 'slovenian', 'so': 'somali', 'es': 'spanish', 'su': 'sundanese', 'sw': 'swahili', 'sv': 'swedish', 'tg': 'tajik', 'ta': 'tamil', 'te': 'telugu', 'th': 'thai', 'tr': 'turkish', 'uk': 'ukrainian', 'ur': 'urdu', 'ug': 'uyghur', 'uz': 'uzbek', 'vi': 'vietnamese', 'cy': 'welsh', 'xh': 'xhosa', 'yi': 'yiddish', 'yo': 'yoruba', 'zu': 'zulu'}\n"
          ]
        }
      ]
    },
    {
      "cell_type": "code",
      "source": [
        "print(\"please select a language code from the following list:\")\n",
        "for code, language in available_languages.items():\n",
        "    print(f\"{code}: {language}\")"
      ],
      "metadata": {
        "colab": {
          "base_uri": "https://localhost:8080/"
        },
        "id": "nLBbEH3FTijG",
        "outputId": "c931e3d5-c0c3-46f7-cb13-5fe84efede5f"
      },
      "execution_count": null,
      "outputs": [
        {
          "output_type": "stream",
          "name": "stdout",
          "text": [
            "please select a language code from the following list:\n",
            "af: afrikaans\n",
            "sq: albanian\n",
            "am: amharic\n",
            "ar: arabic\n",
            "hy: armenian\n",
            "az: azerbaijani\n",
            "eu: basque\n",
            "be: belarusian\n",
            "bn: bengali\n",
            "bs: bosnian\n",
            "bg: bulgarian\n",
            "ca: catalan\n",
            "ceb: cebuano\n",
            "ny: chichewa\n",
            "zh-cn: chinese (simplified)\n",
            "zh-tw: chinese (traditional)\n",
            "co: corsican\n",
            "hr: croatian\n",
            "cs: czech\n",
            "da: danish\n",
            "nl: dutch\n",
            "en: english\n",
            "eo: esperanto\n",
            "et: estonian\n",
            "tl: filipino\n",
            "fi: finnish\n",
            "fr: french\n",
            "fy: frisian\n",
            "gl: galician\n",
            "ka: georgian\n",
            "de: german\n",
            "el: greek\n",
            "gu: gujarati\n",
            "ht: haitian creole\n",
            "ha: hausa\n",
            "haw: hawaiian\n",
            "iw: hebrew\n",
            "he: hebrew\n",
            "hi: hindi\n",
            "hmn: hmong\n",
            "hu: hungarian\n",
            "is: icelandic\n",
            "ig: igbo\n",
            "id: indonesian\n",
            "ga: irish\n",
            "it: italian\n",
            "ja: japanese\n",
            "jw: javanese\n",
            "kn: kannada\n",
            "kk: kazakh\n",
            "km: khmer\n",
            "ko: korean\n",
            "ku: kurdish (kurmanji)\n",
            "ky: kyrgyz\n",
            "lo: lao\n",
            "la: latin\n",
            "lv: latvian\n",
            "lt: lithuanian\n",
            "lb: luxembourgish\n",
            "mk: macedonian\n",
            "mg: malagasy\n",
            "ms: malay\n",
            "ml: malayalam\n",
            "mt: maltese\n",
            "mi: maori\n",
            "mr: marathi\n",
            "mn: mongolian\n",
            "my: myanmar (burmese)\n",
            "ne: nepali\n",
            "no: norwegian\n",
            "or: odia\n",
            "ps: pashto\n",
            "fa: persian\n",
            "pl: polish\n",
            "pt: portuguese\n",
            "pa: punjabi\n",
            "ro: romanian\n",
            "ru: russian\n",
            "sm: samoan\n",
            "gd: scots gaelic\n",
            "sr: serbian\n",
            "st: sesotho\n",
            "sn: shona\n",
            "sd: sindhi\n",
            "si: sinhala\n",
            "sk: slovak\n",
            "sl: slovenian\n",
            "so: somali\n",
            "es: spanish\n",
            "su: sundanese\n",
            "sw: swahili\n",
            "sv: swedish\n",
            "tg: tajik\n",
            "ta: tamil\n",
            "te: telugu\n",
            "th: thai\n",
            "tr: turkish\n",
            "uk: ukrainian\n",
            "ur: urdu\n",
            "ug: uyghur\n",
            "uz: uzbek\n",
            "vi: vietnamese\n",
            "cy: welsh\n",
            "xh: xhosa\n",
            "yi: yiddish\n",
            "yo: yoruba\n",
            "zu: zulu\n"
          ]
        }
      ]
    },
    {
      "cell_type": "code",
      "source": [
        "summary = \"Thank you for attending today meeting. thank you okay with Bonnie everyone . Google do you have any questions? Please email us at the end of the meeting. We'll be happy to answer any of our questions. Please share your thoughts with us on Twitter @dailymailonline.com and iReport .\"\n",
        "selected_language = input(\"\\nEnter the language code you want to translate to: \")"
      ],
      "metadata": {
        "colab": {
          "base_uri": "https://localhost:8080/"
        },
        "id": "gUkCbmwITn-z",
        "outputId": "7799bb3a-26ce-41d3-8df3-f98cfc2fc8b0"
      },
      "execution_count": null,
      "outputs": [
        {
          "name": "stdout",
          "output_type": "stream",
          "text": [
            "\n",
            "Enter the language code you want to translate to: en\n"
          ]
        }
      ]
    },
    {
      "cell_type": "code",
      "source": [
        "translated_summary_text = translated_summary(summary, selected_language)\n",
        "print(f\"\\nTranslated Summary({available_languages[selected_language]}):\")\n",
        "print(translated_summary_text)"
      ],
      "metadata": {
        "colab": {
          "base_uri": "https://localhost:8080/"
        },
        "id": "H6WcToXFTxqr",
        "outputId": "c191fe26-d3b4-4e0b-882e-1d1343e96001"
      },
      "execution_count": null,
      "outputs": [
        {
          "output_type": "stream",
          "name": "stdout",
          "text": [
            "\n",
            "Translated Summary(english):\n",
            "None\n"
          ]
        }
      ]
    }
  ]
}